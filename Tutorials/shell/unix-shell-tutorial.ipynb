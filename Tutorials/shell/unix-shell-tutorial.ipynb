{
 "cells": [
  {
   "cell_type": "code",
   "execution_count": 2,
   "metadata": {},
   "outputs": [
    {
     "name": "stdout",
     "output_type": "stream",
     "text": [
      "unix-shell-tutorial.ipynb\n",
      "/Users/huseyin/huseyin-devre/Tutorials/shell\n",
      "unix-shell-tutorial.ipynb\n"
     ]
    }
   ],
   "source": [
    "%%bash\n",
    "ls\n",
    "pwd\n",
    "ls -F"
   ]
  },
  {
   "cell_type": "code",
   "execution_count": 3,
   "metadata": {},
   "outputs": [
    {
     "name": "stdout",
     "output_type": "stream",
     "text": [
      "Applications/\n",
      "Library/\n",
      "System/\n",
      "Users/\n",
      "Volumes/\n",
      "bin/\n",
      "cores/\n",
      "dev/\n",
      "etc@\n",
      "home@\n",
      "opt/\n",
      "private/\n",
      "sbin/\n",
      "tmp@\n",
      "usr/\n",
      "var@\n",
      "\n",
      "LS(1)                     BSD General Commands Manual                    LS(1)\n",
      "\n",
      "N\bNA\bAM\bME\bE\n",
      "     l\bls\bs -- list directory contents\n",
      "\n",
      "S\bSY\bYN\bNO\bOP\bPS\bSI\bIS\bS\n",
      "     l\bls\bs [-\b-A\bAB\bBC\bCF\bFG\bGH\bHL\bLO\bOP\bPR\bRS\bST\bTU\bUW\bW@\b@a\bab\bbc\bcd\bde\bef\bfg\bgh\bhi\bik\bkl\blm\bmn\bno\bop\bpq\bqr\brs\bst\btu\buw\bwx\bx1\b1%\b%] [_\bf_\bi_\bl_\be _\b._\b._\b.]\n",
      "\n",
      "D\bDE\bES\bSC\bCR\bRI\bIP\bPT\bTI\bIO\bON\bN\n",
      "     For each operand that names a _\bf_\bi_\bl_\be of a type other than directory, l\bls\bs\n",
      "     displays its name as well as any requested, associated information.  For\n",
      "     each operand that names a _\bf_\bi_\bl_\be of type directory, l\bls\bs displays the names\n",
      "     of files contained within that directory, as well as any requested, asso-\n",
      "     ciated information.\n",
      "\n",
      "     If no operands are given, the contents of the current directory are dis-\n",
      "     played.  If more than one operand is given, non-directory operands are\n",
      "     displayed first; directory and non-directory operands are sorted sepa-\n",
      "     rately and in lexicographical order.\n",
      "\n",
      "     The following options are available:\n",
      "\n",
      "     -\b-@\b@      Display extended attribute keys and sizes in long (-\b-l\bl) output.\n",
      "\n",
      "     -\b-1\b1      (The numeric digit ``one''.)  Force output to be one entry per\n",
      "             line.  This is the default when output is not to a terminal.\n",
      "\n",
      "     -\b-A\bA      List all entries except for _\b. and _\b._\b..  Always set for the super-\n",
      "             user.\n",
      "\n",
      "     -\b-a\ba      Include directory entries whose names begin with a dot (_\b.).\n",
      "\n",
      "     -\b-B\bB      Force printing of non-printable characters (as defined by\n",
      "             ctype(3) and current locale settings) in file names as \\_\bx_\bx_\bx,\n",
      "             where _\bx_\bx_\bx is the numeric value of the character in octal.\n",
      "\n",
      "     -\b-b\bb      As -\b-B\bB, but use C escape codes whenever possible.\n",
      "\n",
      "     -\b-C\bC      Force multi-column output; this is the default when output is to\n",
      "             a terminal.\n",
      "\n",
      "     -\b-c\bc      Use time when file status was last changed for sorting (-\b-t\bt) or\n",
      "             long printing (-\b-l\bl).\n",
      "\n",
      "     -\b-d\bd      Directories are listed as plain files (not searched recursively).\n",
      "\n",
      "     -\b-e\be      Print the Access Control List (ACL) associated with the file, if\n",
      "             present, in long (-\b-l\bl) output.\n",
      "\n",
      "     -\b-F\bF      Display a slash (`/') immediately after each pathname that is a\n",
      "             directory, an asterisk (`*') after each that is executable, an at\n",
      "             sign (`@') after each symbolic link, an equals sign (`=') after\n",
      "             each socket, a percent sign (`%') after each whiteout, and a ver-\n",
      "             tical bar (`|') after each that is a FIFO.\n",
      "\n",
      "     -\b-f\bf      Output is not sorted.  This option turns on the -\b-a\ba option.\n",
      "\n",
      "     -\b-G\bG      Enable colorized output.  This option is equivalent to defining\n",
      "             CLICOLOR in the environment.  (See below.)\n",
      "\n",
      "     -\b-g\bg      This option is only available for compatibility with POSIX; it is\n",
      "             used to display the group name in the long (-\b-l\bl) format output\n",
      "             (the owner name is suppressed).\n",
      "\n",
      "     -\b-H\bH      Symbolic links on the command line are followed.  This option is\n",
      "             assumed if none of the -\b-F\bF, -\b-d\bd, or -\b-l\bl options are specified.\n",
      "\n",
      "     -\b-h\bh      When used with the -\b-l\bl option, use unit suffixes: Byte, Kilobyte,\n",
      "             Megabyte, Gigabyte, Terabyte and Petabyte in order to reduce the\n",
      "             number of digits to three or less using base 2 for sizes.\n",
      "\n",
      "     -\b-i\bi      For each file, print the file's file serial number (inode num-\n",
      "             ber).\n",
      "\n",
      "     -\b-k\bk      If the -\b-s\bs option is specified, print the file size allocation in\n",
      "             kilobytes, not blocks.  This option overrides the environment\n",
      "             variable BLOCKSIZE.\n",
      "\n",
      "     -\b-L\bL      Follow all symbolic links to final target and list the file or\n",
      "             directory the link references rather than the link itself.  This\n",
      "             option cancels the -\b-P\bP option.\n",
      "\n",
      "     -\b-l\bl      (The lowercase letter ``ell''.)  List in long format.  (See\n",
      "             below.)  A total sum for all the file sizes is output on a line\n",
      "             before the long listing.\n",
      "\n",
      "     -\b-m\bm      Stream output format; list files across the page, separated by\n",
      "             commas.\n",
      "\n",
      "     -\b-n\bn      Display user and group IDs numerically, rather than converting to\n",
      "             a user or group name in a long (-\b-l\bl) output.  This option turns on\n",
      "             the -\b-l\bl option.\n",
      "\n",
      "     -\b-O\bO      Include the file flags in a long (-\b-l\bl) output.\n",
      "\n",
      "     -\b-o\bo      List in long format, but omit the group id.\n",
      "\n",
      "     -\b-P\bP      If argument is a symbolic link, list the link itself rather than\n",
      "             the object the link references.  This option cancels the -\b-H\bH and\n",
      "             -\b-L\bL options.\n",
      "\n",
      "     -\b-p\bp      Write a slash (`/') after each filename if that file is a direc-\n",
      "             tory.\n",
      "\n",
      "     -\b-q\bq      Force printing of non-graphic characters in file names as the\n",
      "             character `?'; this is the default when output is to a terminal.\n",
      "\n",
      "     -\b-R\bR      Recursively list subdirectories encountered.\n",
      "\n",
      "     -\b-r\br      Reverse the order of the sort to get reverse lexicographical\n",
      "             order or the oldest entries first (or largest files last, if com-\n",
      "             bined with sort by size\n",
      "\n",
      "     -\b-S\bS      Sort files by size\n",
      "\n",
      "     -\b-s\bs      Display the number of file system blocks actually used by each\n",
      "             file, in units of 512 bytes, where partial units are rounded up\n",
      "             to the next integer value.  If the output is to a terminal, a\n",
      "             total sum for all the file sizes is output on a line before the\n",
      "             listing.  The environment variable BLOCKSIZE overrides the unit\n",
      "             size of 512 bytes.\n",
      "\n",
      "     -\b-T\bT      When used with the -\b-l\bl (lowercase letter ``ell'') option, display\n",
      "             complete time information for the file, including month, day,\n",
      "             hour, minute, second, and year.\n",
      "\n",
      "     -\b-t\bt      Sort by time modified (most recently modified first) before sort-\n",
      "             ing the operands by lexicographical order.\n",
      "\n",
      "     -\b-u\bu      Use time of last access, instead of last modification of the file\n",
      "             for sorting (-\b-t\bt) or long printing (-\b-l\bl).\n",
      "\n",
      "     -\b-U\bU      Use time of file creation, instead of last modification for sort-\n",
      "             ing (-\b-t\bt) or long output (-\b-l\bl).\n",
      "\n",
      "     -\b-v\bv      Force unedited printing of non-graphic characters; this is the\n",
      "             default when output is not to a terminal.\n",
      "\n",
      "     -\b-W\bW      Display whiteouts when scanning directories.  (-\b-S\bS) flag).\n",
      "\n",
      "     -\b-w\bw      Force raw printing of non-printable characters.  This is the\n",
      "             default when output is not to a terminal.\n",
      "\n",
      "     -\b-x\bx      The same as -\b-C\bC, except that the multi-column output is produced\n",
      "             with entries sorted across, rather than down, the columns.\n",
      "\n",
      "     -\b-%\b%      Distinguish dataless files and directories with a '%' character\n",
      "             in long (-\b-l\bl) output, and don't materialize dataless directories\n",
      "             when listing them.\n",
      "\n",
      "     The -\b-1\b1, -\b-C\bC, -\b-x\bx, and -\b-l\bl options all override each other; the last one\n",
      "     specified determines the format used.\n",
      "\n",
      "     The -\b-c\bc and -\b-u\bu options override each other; the last one specified deter-\n",
      "     mines the file time used.\n",
      "\n",
      "     The -\b-B\bB, -\b-b\bb, -\b-w\bw, and -\b-q\bq options all override each other; the last one\n",
      "     specified determines the format used for non-printable characters.\n",
      "\n",
      "     The -\b-H\bH, -\b-L\bL and -\b-P\bP options all override each other (either partially or\n",
      "     fully); they are applied in the order specified.\n",
      "\n",
      "     By default, l\bls\bs lists one entry per line to standard output; the excep-\n",
      "     tions are to terminals or when the -\b-C\bC or -\b-x\bx options are specified.\n",
      "\n",
      "     File information is displayed with one or more <blank>s separating the\n",
      "     information associated with the -\b-i\bi, -\b-s\bs, and -\b-l\bl options.\n",
      "\n",
      "   T\bTh\bhe\be L\bLo\bon\bng\bg F\bFo\bor\brm\bma\bat\bt\n",
      "     If the -\b-l\bl option is given, the following information is displayed for\n",
      "     each file: file mode, number of links, owner name, group name, number of\n",
      "     bytes in the file, abbreviated month, day-of-month file was last modi-\n",
      "     fied, hour file last modified, minute file last modified, and the path-\n",
      "     name.  In addition, for each directory whose contents are displayed, the\n",
      "     total number of 512-byte blocks used by the files in the directory is\n",
      "     displayed on a line by itself, immediately before the information for the\n",
      "     files in the directory.  If the file or directory has extended\n",
      "     attributes, the permissions field printed by the -\b-l\bl option is followed by\n",
      "     a '@' character.  Otherwise, if the file or directory has extended secu-\n",
      "     rity information (such as an access control list), the permissions field\n",
      "     printed by the -\b-l\bl option is followed by a '+' character.  If the -\b-%\b%\n",
      "     option is given, a '%' character follows the permissions field for data-\n",
      "     less files and directories, possibly replacing the '@' or '+' character.\n",
      "\n",
      "     If the modification time of the file is more than 6 months in the past or\n",
      "     future, then the year of the last modification is displayed in place of\n",
      "     the hour and minute fields.\n",
      "\n",
      "     If the owner or group names are not a known user or group name, or the -\b-n\bn\n",
      "     option is given, the numeric ID's are displayed.\n",
      "\n",
      "     If the file is a character special or block special file, the major and\n",
      "     minor device numbers for the file are displayed in the size field.  If\n",
      "     the file is a symbolic link, the pathname of the linked-to file is pre-\n",
      "     ceded by ``->''.\n",
      "\n",
      "     The file mode printed under the -\b-l\bl option consists of the entry type,\n",
      "     owner permissions, and group permissions.  The entry type character\n",
      "     describes the type of file, as follows:\n",
      "\n",
      "           b\bb     Block special file.\n",
      "           c\bc     Character special file.\n",
      "           d\bd     Directory.\n",
      "           l\bl     Symbolic link.\n",
      "           s\bs     Socket link.\n",
      "           p\bp     FIFO.\n",
      "           -\b-     Regular file.\n",
      "\n",
      "     The next three fields are three characters each: owner permissions, group\n",
      "     permissions, and other permissions.  Each field has three character posi-\n",
      "     tions:\n",
      "\n",
      "           1.   If r\br, the file is readable; if -\b-, it is not readable.\n",
      "\n",
      "           2.   If w\bw, the file is writable; if -\b-, it is not writable.\n",
      "\n",
      "           3.   The first of the following that applies:\n",
      "\n",
      "                      S\bS     If in the owner permissions, the file is not exe-\n",
      "                            cutable and set-user-ID mode is set.  If in the\n",
      "                            group permissions, the file is not executable and\n",
      "                            set-group-ID mode is set.\n",
      "\n",
      "                      s\bs     If in the owner permissions, the file is exe-\n",
      "                            cutable and set-user-ID mode is set.  If in the\n",
      "                            group permissions, the file is executable and set-\n",
      "                            group-ID mode is set.\n",
      "\n",
      "                      x\bx     The file is executable or the directory is search-\n",
      "                            able.\n",
      "\n",
      "                      -\b-     The file is neither readable, writable, exe-\n",
      "                            cutable, nor set-user-ID nor set-group-ID mode,\n",
      "                            nor sticky.  (See below.)\n",
      "\n",
      "                These next two apply only to the third character in the last\n",
      "                group (other permissions).\n",
      "\n",
      "                      T\bT     The sticky bit is set (mode 1000), but not execute\n",
      "                            or search permission.  (See chmod(1) or\n",
      "                            sticky(8).)\n",
      "\n",
      "                      t\bt     The sticky bit is set (mode 1000), and is search-\n",
      "                            able or executable.  (See chmod(1) or sticky(8).)\n",
      "\n",
      "E\bEX\bXA\bAM\bMP\bPL\bLE\bES\bS\n",
      "     The following is how to do an l\bls\bs listing sorted by increasing size\n",
      "\n",
      "           ls -lrS\n",
      "\n",
      "D\bDI\bIA\bAG\bGN\bNO\bOS\bST\bTI\bIC\bCS\bS\n",
      "     The l\bls\bs utility exits 0 on success, and >0 if an error occurs.\n",
      "\n",
      "E\bEN\bNV\bVI\bIR\bRO\bON\bNM\bME\bEN\bNT\bT\n",
      "     The following environment variables affect the execution of l\bls\bs:\n",
      "\n",
      "     BLOCKSIZE       If the environment variable BLOCKSIZE is set, the block\n",
      "                     counts (see -\b-s\bs) will be displayed in units of that size\n",
      "                     block.\n",
      "\n",
      "     CLICOLOR        Use ANSI color sequences to distinguish file types.  See\n",
      "                     LSCOLORS below.  In addition to the file types mentioned\n",
      "                     in the -\b-F\bF option some extra attributes (setuid bit set,\n",
      "                     etc.) are also displayed.  The colorization is dependent\n",
      "                     on a terminal type with the proper termcap(5) capabili-\n",
      "                     ties.  The default ``cons25'' console has the proper\n",
      "                     capabilities, but to display the colors in an xterm(1),\n",
      "                     for example, the TERM variable must be set to\n",
      "                     ``xterm-color''.  Other terminal types may require simi-\n",
      "                     lar adjustments.  Colorization is silently disabled if\n",
      "                     the output isn't directed to a terminal unless the\n",
      "                     CLICOLOR_FORCE variable is defined.\n",
      "\n",
      "     CLICOLOR_FORCE  Color sequences are normally disabled if the output isn't\n",
      "                     directed to a terminal.  This can be overridden by set-\n",
      "                     ting this flag.  The TERM variable still needs to refer-\n",
      "                     ence a color capable terminal however otherwise it is not\n",
      "                     possible to determine which color sequences to use.\n",
      "\n",
      "     COLUMNS         If this variable contains a string representing a decimal\n",
      "                     integer, it is used as the column position width for dis-\n",
      "                     playing multiple-text-column output.  The l\bls\bs utility cal-\n",
      "                     culates how many pathname text columns to display based\n",
      "                     on the width provided.  (See -\b-C\bC and -\b-x\bx.)\n",
      "\n",
      "     LANG            The locale to use when determining the order of day and\n",
      "                     month in the long -\b-l\bl format output.  See environ(7) for\n",
      "                     more information.\n",
      "\n",
      "     LSCOLORS        The value of this variable describes what color to use\n",
      "                     for which attribute when colors are enabled with\n",
      "                     CLICOLOR.  This string is a concatenation of pairs of the\n",
      "                     format _\bf_\bb, where _\bf is the foreground color and _\bb is the\n",
      "                     background color.\n",
      "\n",
      "                     The color designators are as follows:\n",
      "\n",
      "                           a\ba     black\n",
      "                           b\bb     red\n",
      "                           c\bc     green\n",
      "                           d\bd     brown\n",
      "                           e\be     blue\n",
      "                           f\bf     magenta\n",
      "                           g\bg     cyan\n",
      "                           h\bh     light grey\n",
      "                           A\bA     bold black, usually shows up as dark grey\n",
      "                           B\bB     bold red\n",
      "                           C\bC     bold green\n",
      "                           D\bD     bold brown, usually shows up as yellow\n",
      "                           E\bE     bold blue\n",
      "                           F\bF     bold magenta\n",
      "                           G\bG     bold cyan\n",
      "                           H\bH     bold light grey; looks like bright white\n",
      "                           x\bx     default foreground or background\n",
      "\n",
      "                     Note that the above are standard ANSI colors.  The actual\n",
      "                     display may differ depending on the color capabilities of\n",
      "                     the terminal in use.\n",
      "\n",
      "                     The order of the attributes are as follows:\n",
      "\n",
      "                           1.   directory\n",
      "                           2.   symbolic link\n",
      "                           3.   socket\n",
      "                           4.   pipe\n",
      "                           5.   executable\n",
      "                           6.   block special\n",
      "                           7.   character special\n",
      "                           8.   executable with setuid bit set\n",
      "                           9.   executable with setgid bit set\n",
      "                           10.  directory writable to others, with sticky bit\n",
      "                           11.  directory writable to others, without sticky\n",
      "                                bit\n",
      "\n",
      "                     The default is \"exfxcxdxbxegedabagacad\", i.e. blue fore-\n",
      "                     ground and default background for regular directories,\n",
      "                     black foreground and red background for setuid executa-\n",
      "                     bles, etc.\n",
      "\n",
      "     LS_COLWIDTHS    If this variable is set, it is considered to be a colon-\n",
      "                     delimited list of minimum column widths.  Unreasonable\n",
      "                     and insufficient widths are ignored (thus zero signifies\n",
      "                     a dynamically sized column).  Not all columns have\n",
      "                     changeable widths.  The fields are, in order: inode,\n",
      "                     block count, number of links, user name, group name,\n",
      "                     flags, file size, file name.\n",
      "\n",
      "     TERM            The CLICOLOR functionality depends on a terminal type\n",
      "                     with color capabilities.\n",
      "\n",
      "     TZ              The timezone to use when displaying dates.  See\n",
      "                     environ(7) for more information.\n",
      "\n",
      "C\bCO\bOM\bMP\bPA\bAT\bTI\bIB\bBI\bIL\bLI\bIT\bTY\bY\n",
      "     The group field is now automatically included in the long listing for\n",
      "     files in order to be compatible with the IEEE Std 1003.2 (``POSIX.2'')\n",
      "     specification.\n",
      "\n",
      "L\bLE\bEG\bGA\bAC\bCY\bY D\bDE\bES\bSC\bCR\bRI\bIP\bPT\bTI\bIO\bON\bN\n",
      "     In legacy mode, the -\b-f\bf option does not turn on the -\b-a\ba option and the -\b-g\bg,\n",
      "     -\b-n\bn, and -\b-o\bo options do not turn on the -\b-l\bl option.\n",
      "\n",
      "     Also, the -\b-o\bo option causes the file flags to be included in a long (-l)\n",
      "     output; there is no -\b-O\bO option.\n",
      "\n",
      "     When -\b-H\bH is specified (and not overridden by -\b-L\bL or -\b-P\bP) and a file argument\n",
      "     is a symlink that resolves to a non-directory file, the output will\n",
      "     reflect the nature of the link, rather than that of the file.  In legacy\n",
      "     operation, the output will describe the file.\n",
      "\n",
      "     For more information about legacy mode, see compat(5).\n",
      "\n",
      "S\bSE\bEE\bE A\bAL\bLS\bSO\bO\n",
      "     chflags(1), chmod(1), sort(1), xterm(1), compat(5), termcap(5),\n",
      "     symlink(7), sticky(8)\n",
      "\n",
      "S\bST\bTA\bAN\bND\bDA\bAR\bRD\bDS\bS\n",
      "     The l\bls\bs utility conforms to IEEE Std 1003.1-2001 (``POSIX.1'').\n",
      "\n",
      "H\bHI\bIS\bST\bTO\bOR\bRY\bY\n",
      "     An l\bls\bs command appeared in Version 1 AT&T UNIX.\n",
      "\n",
      "B\bBU\bUG\bGS\bS\n",
      "     To maintain backward compatibility, the relationships between the many\n",
      "     options are quite complex.\n",
      "\n",
      "BSD                              May 19, 2002                              BSD\n"
     ]
    },
    {
     "name": "stderr",
     "output_type": "stream",
     "text": [
      "ls: illegal option -- -\n",
      "usage: ls [-@ABCFGHLOPRSTUWabcdefghiklmnopqrstuwx1%] [file ...]\n"
     ]
    }
   ],
   "source": [
    "%%bash\n",
    "ls -F /\n",
    "ls --help\n",
    "man ls"
   ]
  },
  {
   "cell_type": "code",
   "execution_count": 9,
   "metadata": {},
   "outputs": [
    {
     "name": "stdout",
     "output_type": "stream",
     "text": [
      "total 56\n",
      "drwxr-xr-x  2 huseyin  staff    64B Apr  8 22:45 submissionOne/\n",
      "-rw-r--r--  1 huseyin  staff    25K Apr  8 22:45 unix-shell-tutorial.ipynb\n"
     ]
    }
   ],
   "source": [
    "%%bash\n",
    "ls -help\n",
    "cd submissionOne\n",
    "ls\n"
   ]
  },
  {
   "cell_type": "code",
   "execution_count": 12,
   "metadata": {},
   "outputs": [
    {
     "name": "stdout",
     "output_type": "stream",
     "text": [
      "/Users/huseyin/huseyin-devre/Tutorials\n"
     ]
    }
   ],
   "source": [
    "%%bash\n",
    "cd ..\n",
    "pwd"
   ]
  },
  {
   "cell_type": "code",
   "execution_count": 16,
   "metadata": {},
   "outputs": [
    {
     "name": "stdout",
     "output_type": "stream",
     "text": [
      "Shared\n",
      "huseyin\n",
      "/Users\n"
     ]
    }
   ],
   "source": [
    "%%bash\n",
    "cd /Users\n",
    "ls\n",
    "pwd"
   ]
  },
  {
   "cell_type": "code",
   "execution_count": 17,
   "metadata": {},
   "outputs": [],
   "source": [
    "%%bash\n",
    "\n",
    "mkdir hello"
   ]
  },
  {
   "cell_type": "code",
   "execution_count": 18,
   "metadata": {},
   "outputs": [
    {
     "name": "stdout",
     "output_type": "stream",
     "text": [
      "hello\n",
      "submissionOne\n",
      "unix-shell-tutorial.ipynb\n"
     ]
    }
   ],
   "source": [
    "%%bash\n",
    "ls"
   ]
  },
  {
   "cell_type": "code",
   "execution_count": 19,
   "metadata": {},
   "outputs": [],
   "source": [
    "%%bash\n",
    "touch raft.txt"
   ]
  },
  {
   "cell_type": "code",
   "execution_count": 20,
   "metadata": {},
   "outputs": [
    {
     "name": "stdout",
     "output_type": "stream",
     "text": [
      "hello\n",
      "raft.txt\n",
      "submissionOne\n",
      "unix-shell-tutorial.ipynb\n"
     ]
    }
   ],
   "source": [
    "%%bash\n",
    "ls"
   ]
  },
  {
   "cell_type": "code",
   "execution_count": 25,
   "metadata": {},
   "outputs": [
    {
     "name": "stdout",
     "output_type": "stream",
     "text": [
      "/Users/huseyin/huseyin-devre/Tutorials/shell\n"
     ]
    }
   ],
   "source": [
    "%%bash\n",
    "pwd\n",
    "mv /Users/huseyin/huseyin-devre/Tutorials/shell/raft.txt /Users/huseyin/huseyin-devre/Tutorials/shell/hello"
   ]
  },
  {
   "cell_type": "code",
   "execution_count": 29,
   "metadata": {},
   "outputs": [
    {
     "name": "stdout",
     "output_type": "stream",
     "text": [
      "hello\n",
      "submissionOne\n",
      "unix-shell-tutorial.ipynb\n"
     ]
    }
   ],
   "source": [
    "%%bash\n",
    "ls"
   ]
  },
  {
   "cell_type": "code",
   "execution_count": 30,
   "metadata": {},
   "outputs": [
    {
     "name": "stdout",
     "output_type": "stream",
     "text": [
      "raft.txt\n"
     ]
    }
   ],
   "source": [
    "%%bash \n",
    "ls hello/"
   ]
  },
  {
   "cell_type": "code",
   "execution_count": 35,
   "metadata": {},
   "outputs": [
    {
     "name": "stdout",
     "output_type": "stream",
     "text": [
      "deleted.txt\n",
      "hello\n",
      "submissionOne\n",
      "unix-shell-tutorial.ipynb\n"
     ]
    }
   ],
   "source": [
    "%%bash\n",
    "\n",
    "touch deleted.txt\n",
    "ls"
   ]
  },
  {
   "cell_type": "code",
   "execution_count": 36,
   "metadata": {},
   "outputs": [
    {
     "name": "stdout",
     "output_type": "stream",
     "text": [
      "hello\n",
      "submissionOne\n",
      "unix-shell-tutorial.ipynb\n"
     ]
    }
   ],
   "source": [
    "%%bash\n",
    "rm deleted.txt\n",
    "ls"
   ]
  },
  {
   "cell_type": "code",
   "execution_count": 41,
   "metadata": {},
   "outputs": [
    {
     "name": "stdout",
     "output_type": "stream",
     "text": [
      "copy.txt\n",
      "hello\n",
      "submissionOne\n",
      "unix-shell-tutorial.ipynb\n",
      "copy.txt\n",
      "hello\n",
      "submissionOne\n",
      "unix-shell-tutorial.ipynb\n"
     ]
    }
   ],
   "source": [
    "%%bash\n",
    "ls\n",
    "touch copy.txt\n",
    "cp copy.txt hello/raft.txt\n"
   ]
  },
  {
   "cell_type": "code",
   "execution_count": null,
   "metadata": {},
   "outputs": [],
   "source": []
  }
 ],
 "metadata": {
  "kernelspec": {
   "display_name": "Python 3",
   "language": "python",
   "name": "python3"
  },
  "language_info": {
   "codemirror_mode": {
    "name": "ipython",
    "version": 3
   },
   "file_extension": ".py",
   "mimetype": "text/x-python",
   "name": "python",
   "nbconvert_exporter": "python",
   "pygments_lexer": "ipython3",
   "version": "3.7.4"
  }
 },
 "nbformat": 4,
 "nbformat_minor": 2
}
