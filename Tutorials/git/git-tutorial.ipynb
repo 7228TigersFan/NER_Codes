{
 "cells": [
  {
   "cell_type": "code",
   "execution_count": 1,
   "metadata": {},
   "outputs": [
    {
     "name": "stdout",
     "output_type": "stream",
     "text": [
      "/Users/huseyin/huseyin-devre/Tutorials/git\n"
     ]
    }
   ],
   "source": [
    "%%bash\n",
    "pwd\n",
    "git config --global user.name \"7228TigersFan\"\n",
    "git config --global user.email \"hdevre22@my.uaa.k12.tr\""
   ]
  },
  {
   "cell_type": "code",
   "execution_count": 2,
   "metadata": {},
   "outputs": [
    {
     "name": "stdout",
     "output_type": "stream",
     "text": [
      "credential.helper=osxkeychain\n",
      "filter.lfs.clean=git-lfs clean -- %f\n",
      "filter.lfs.smudge=git-lfs smudge -- %f\n",
      "filter.lfs.process=git-lfs filter-process\n",
      "filter.lfs.required=true\n",
      "user.name=7228TigersFan\n",
      "user.email=hdevre22@my.uaa.k12.tr\n",
      "core.autocrlf=input\n",
      "core.editor=code --wait\n",
      "core.repositoryformatversion=0\n",
      "core.filemode=true\n",
      "core.bare=false\n",
      "core.logallrefupdates=true\n",
      "core.ignorecase=true\n",
      "core.precomposeunicode=true\n",
      "remote.origin.url=https://github.com/7228TigersFan/huseyin-devre.git\n",
      "remote.origin.fetch=+refs/heads/*:refs/remotes/origin/*\n",
      "branch.master.remote=origin\n",
      "branch.master.merge=refs/heads/master\n"
     ]
    }
   ],
   "source": [
    "%%bash\n",
    "git config --list"
   ]
  },
  {
   "cell_type": "code",
   "execution_count": 3,
   "metadata": {},
   "outputs": [
    {
     "name": "stdout",
     "output_type": "stream",
     "text": [
      "Initialized empty Git repository in /Users/huseyin/huseyin-devre/Tutorials/git/submission/.git/\n",
      "On branch master\n",
      "\n",
      "No commits yet\n",
      "\n",
      "nothing to commit (create/copy files and use \"git add\" to track)\n"
     ]
    }
   ],
   "source": [
    "%%bash\n",
    "mkdir submission\n",
    "cd submission\n",
    "git init\n",
    "ls\n",
    "git status"
   ]
  },
  {
   "cell_type": "code",
   "execution_count": 4,
   "metadata": {},
   "outputs": [
    {
     "name": "stdout",
     "output_type": "stream",
     "text": [
      "git-tutorial.ipynb\n",
      "submission\n",
      "On branch master\n",
      "\n",
      "No commits yet\n",
      "\n",
      "Untracked files:\n",
      "  (use \"git add <file>...\" to include in what will be committed)\n",
      "\n",
      "\tmars.txt\n",
      "\n",
      "nothing added to commit but untracked files present (use \"git add\" to track)\n",
      "[master (root-commit) 02bd918] Start notes on Mars as a base\n",
      " 1 file changed, 0 insertions(+), 0 deletions(-)\n",
      " create mode 100644 mars.txt\n",
      "On branch master\n",
      "nothing to commit, working tree clean\n",
      "commit 02bd918b824c61e71f4b92a5074c18a4abef8b18\n",
      "Author: 7228TigersFan <hdevre22@my.uaa.k12.tr>\n",
      "Date:   Wed Apr 8 22:11:12 2020 +0300\n",
      "\n",
      "    Start notes on Mars as a base\n"
     ]
    }
   ],
   "source": [
    "%%bash\n",
    "ls\n",
    "cd submission/\n",
    "touch mars.txt\n",
    "git status\n",
    "git add mars.txt\n",
    "git commit -m \"Start notes on Mars as a base\"\n",
    "git status\n",
    "git log"
   ]
  },
  {
   "cell_type": "code",
   "execution_count": 5,
   "metadata": {},
   "outputs": [
    {
     "name": "stderr",
     "output_type": "stream",
     "text": [
      "To https://github.com/7228TigersFan/Submission.git\n",
      " * [new branch]      master -> master\n"
     ]
    }
   ],
   "source": [
    "%%bash\n",
    "cd submission\n",
    "git remote add origin https://github.com/7228TigersFan/Submission.git\n",
    "git push origin master"
   ]
  },
  {
   "cell_type": "code",
   "execution_count": null,
   "metadata": {},
   "outputs": [],
   "source": []
  }
 ],
 "metadata": {
  "kernelspec": {
   "display_name": "Python 3",
   "language": "python",
   "name": "python3"
  },
  "language_info": {
   "codemirror_mode": {
    "name": "ipython",
    "version": 3
   },
   "file_extension": ".py",
   "mimetype": "text/x-python",
   "name": "python",
   "nbconvert_exporter": "python",
   "pygments_lexer": "ipython3",
   "version": "3.7.4"
  }
 },
 "nbformat": 4,
 "nbformat_minor": 2
}
