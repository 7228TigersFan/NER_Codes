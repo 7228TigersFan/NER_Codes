{
 "cells": [
  {
   "cell_type": "code",
   "execution_count": 1,
   "metadata": {},
   "outputs": [],
   "source": [
    "#Inspired from this: https://becominghuman.ai/lets-build-a-perceptron-in-python-eff3462eb22\n",
    "from random import random as r\n"
   ]
  },
  {
   "cell_type": "code",
   "execution_count": 6,
   "metadata": {},
   "outputs": [],
   "source": [
    "class Perceptron:\n",
    "    def __init__(self, in_Size):\n",
    "        self.inputLayerSize = in_Size\n",
    "        self.w = []\n",
    "        self.b = r()*10 - 5\n",
    "        for i in range(in_Size):\n",
    "            self.w.append(r()*10 - 5)\n",
    "    def normalizeV(val):\n",
    "        if val < 0:\n",
    "            return -1\n",
    "        else:\n",
    "            return 1\n",
    "    def processInput(self, nnInput):  \n",
    "        assert len(nnInput) == len(self.w)\n",
    "        unprocessedOutVal = self.b \n",
    "        for i in range(len(nnInput)): \n",
    "            unprocessedOutVal += nnInput[i]*self.w[i]\n",
    "        return normalizeV(unprocessedOutVal) \n",
    "    def lineY(x):\n",
    "        return 1.6*x + 3.4 \n",
    "    def generateTrainingSet(train_Size):\n",
    "        trainingSet = []\n",
    "        for i in range(train_Size):\n",
    "            x = r()*20 - 10\n",
    "            y = r()*20 - 10\n",
    "            if y > lineY(x):\n",
    "                out = 1 \n",
    "            else:\n",
    "                out = -1 \n",
    "            trainingSet.append([x, y, out])\n",
    "        return trainingSet \n",
    "    def trainOnInput(self, inputVals, expectedOutputVal, lRate):\n",
    "        nnVal = self.processInput(inputVals)\n",
    "        error = expectedOutputVal - nnVal\n",
    "        self.adjustForError(inputVals, error, lRate)\n",
    "    def adjustForError(self, inputVals, error, lRate):\n",
    "        for i in range(len(self.w)):\n",
    "            self.w[i] += error*inputVals[i]*lRate\n",
    "        self.b += error*lRate\n",
    "        \n",
    "        "
   ]
  }
 ],
 "metadata": {
  "kernelspec": {
   "display_name": "Python 3",
   "language": "python",
   "name": "python3"
  },
  "language_info": {
   "codemirror_mode": {
    "name": "ipython",
    "version": 3
   },
   "file_extension": ".py",
   "mimetype": "text/x-python",
   "name": "python",
   "nbconvert_exporter": "python",
   "pygments_lexer": "ipython3",
   "version": "3.7.4"
  }
 },
 "nbformat": 4,
 "nbformat_minor": 2
}
