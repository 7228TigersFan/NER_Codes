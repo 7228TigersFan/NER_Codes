{
 "cells": [
  {
   "cell_type": "code",
   "execution_count": 1,
   "metadata": {},
   "outputs": [],
   "source": [
    "from flair.data import Sentence\n",
    "from flair.models import SequenceTagger"
   ]
  },
  {
   "cell_type": "code",
   "execution_count": 6,
   "metadata": {},
   "outputs": [],
   "source": [
    "sentence = Sentence('Arrow was a television series and a modern retelling of the DC Comics series Green Arrow. Stephen Amell portrayed the eponymous lead character Oliver Queen, who fights crime as a vigilante. ')"
   ]
  },
  {
   "cell_type": "code",
   "execution_count": 3,
   "metadata": {},
   "outputs": [
    {
     "name": "stdout",
     "output_type": "stream",
     "text": [
      "2020-07-03 12:21:28,256 https://s3.eu-central-1.amazonaws.com/alan-nlp/resources/models-v0.4/NER-conll03-english/en-ner-conll03-v0.4.pt not found in cache, downloading to /var/folders/rx/ll80z9x11dg6p6x1hv9c41hw0000gn/T/tmpukdny6t6\n"
     ]
    },
    {
     "name": "stderr",
     "output_type": "stream",
     "text": [
      "100%|██████████| 432197603/432197603 [03:37<00:00, 1985556.63B/s]"
     ]
    },
    {
     "name": "stdout",
     "output_type": "stream",
     "text": [
      "2020-07-03 12:25:06,289 copying /var/folders/rx/ll80z9x11dg6p6x1hv9c41hw0000gn/T/tmpukdny6t6 to cache at /Users/huseyin/.flair/models/en-ner-conll03-v0.4.pt\n"
     ]
    },
    {
     "name": "stderr",
     "output_type": "stream",
     "text": [
      "\n"
     ]
    },
    {
     "name": "stdout",
     "output_type": "stream",
     "text": [
      "2020-07-03 12:25:08,656 removing temp file /var/folders/rx/ll80z9x11dg6p6x1hv9c41hw0000gn/T/tmpukdny6t6\n",
      "2020-07-03 12:25:08,746 loading file /Users/huseyin/.flair/models/en-ner-conll03-v0.4.pt\n"
     ]
    }
   ],
   "source": [
    "tagger = SequenceTagger.load('ner')"
   ]
  },
  {
   "cell_type": "code",
   "execution_count": 7,
   "metadata": {},
   "outputs": [
    {
     "data": {
      "text/plain": [
       "[Sentence: \"Arrow was a television series and a modern retelling of the DC Comics series Green Arrow. Stephen Amell portrayed the eponymous lead character Oliver Queen, who fights crime as a vigilante.\"   [− Tokens: 31  − Token-Labels: \"Arrow <S-ORG> was a television series and a modern retelling of the DC <B-MISC> Comics <E-MISC> series Green <B-MISC> Arrow. <E-MISC> Stephen <B-PER> Amell <E-PER> portrayed the eponymous lead character Oliver <B-PER> Queen, <E-PER> who fights crime as a vigilante.\"]]"
      ]
     },
     "execution_count": 7,
     "metadata": {},
     "output_type": "execute_result"
    }
   ],
   "source": [
    "tagger.predict(sentence)"
   ]
  },
  {
   "cell_type": "code",
   "execution_count": 8,
   "metadata": {},
   "outputs": [
    {
     "name": "stdout",
     "output_type": "stream",
     "text": [
      "Span [1]: \"Arrow\"   [− Labels: ORG (0.6874)]\n",
      "Span [12,13]: \"DC Comics\"   [− Labels: MISC (0.7183)]\n",
      "Span [15,16]: \"Green Arrow.\"   [− Labels: MISC (0.6799)]\n",
      "Span [17,18]: \"Stephen Amell\"   [− Labels: PER (0.9985)]\n",
      "Span [24,25]: \"Oliver Queen,\"   [− Labels: PER (0.999)]\n"
     ]
    }
   ],
   "source": [
    "for entity in sentence.get_spans('ner'):\n",
    "    print(entity)"
   ]
  },
  {
   "cell_type": "code",
   "execution_count": null,
   "metadata": {},
   "outputs": [],
   "source": []
  }
 ],
 "metadata": {
  "kernelspec": {
   "display_name": "Python 3",
   "language": "python",
   "name": "python3"
  },
  "language_info": {
   "codemirror_mode": {
    "name": "ipython",
    "version": 3
   },
   "file_extension": ".py",
   "mimetype": "text/x-python",
   "name": "python",
   "nbconvert_exporter": "python",
   "pygments_lexer": "ipython3",
   "version": "3.7.7"
  }
 },
 "nbformat": 4,
 "nbformat_minor": 4
}
